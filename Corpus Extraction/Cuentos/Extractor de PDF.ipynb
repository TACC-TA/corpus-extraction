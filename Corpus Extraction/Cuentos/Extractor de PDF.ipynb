{
  "nbformat": 4,
  "nbformat_minor": 0,
  "metadata": {
    "colab": {
      "provenance": []
    },
    "kernelspec": {
      "name": "python3",
      "display_name": "Python 3"
    },
    "language_info": {
      "name": "python"
    }
  },
  "cells": [
    {
      "cell_type": "code",
      "execution_count": 3,
      "metadata": {
        "colab": {
          "base_uri": "https://localhost:8080/"
        },
        "id": "5xEaAuuFlrG8",
        "outputId": "176e5115-169e-44cb-9ac7-15d94c2b3f46"
      },
      "outputs": [
        {
          "output_type": "stream",
          "name": "stdout",
          "text": [
            "Collecting pdfminer.six\n",
            "  Downloading pdfminer.six-20231228-py3-none-any.whl (5.6 MB)\n",
            "\u001b[2K     \u001b[90m━━━━━━━━━━━━━━━━━━━━━━━━━━━━━━━━━━━━━━━━\u001b[0m \u001b[32m5.6/5.6 MB\u001b[0m \u001b[31m18.3 MB/s\u001b[0m eta \u001b[36m0:00:00\u001b[0m\n",
            "\u001b[?25hRequirement already satisfied: charset-normalizer>=2.0.0 in /usr/local/lib/python3.10/dist-packages (from pdfminer.six) (3.3.2)\n",
            "Requirement already satisfied: cryptography>=36.0.0 in /usr/local/lib/python3.10/dist-packages (from pdfminer.six) (42.0.5)\n",
            "Requirement already satisfied: cffi>=1.12 in /usr/local/lib/python3.10/dist-packages (from cryptography>=36.0.0->pdfminer.six) (1.16.0)\n",
            "Requirement already satisfied: pycparser in /usr/local/lib/python3.10/dist-packages (from cffi>=1.12->cryptography>=36.0.0->pdfminer.six) (2.22)\n",
            "Installing collected packages: pdfminer.six\n",
            "Successfully installed pdfminer.six-20231228\n"
          ]
        }
      ],
      "source": [
        "!pip install pdfminer.six"
      ]
    },
    {
      "cell_type": "code",
      "source": [
        "from pdfminer.high_level import extract_text\n",
        "import pandas as pd\n",
        "\n",
        "# Nombre de tu archivo PDF\n",
        "nombre_del_archivo = 'huay_shlp7.pdf'\n",
        "\n",
        "# Función para extraer el texto del PDF\n",
        "def extraer_texto_pdf(nombre_del_archivo):\n",
        "    # Usa extract_text para obtener el texto del archivo\n",
        "    texto = extract_text(nombre_del_archivo)\n",
        "    return texto\n",
        "\n",
        "# Extraer el texto del archivo\n",
        "texto_extraido = extraer_texto_pdf(nombre_del_archivo)\n",
        "\n",
        "# Crear un DataFrame con pandas\n",
        "df = pd.DataFrame([texto_extraido], columns=['Texto'])\n",
        "\n",
        "# Guardar el DataFrame en un archivo CSV\n",
        "df.to_csv('huay_shlp7.csv', index=False)\n",
        "\n",
        "# Mostrar un mensaje de éxito\n",
        "print(\"El texto ha sido extraído y guardado en 'texto_extraido.csv'\")\n"
      ],
      "metadata": {
        "colab": {
          "base_uri": "https://localhost:8080/"
        },
        "id": "5bo3vC0wlti2",
        "outputId": "eaf387d4-5392-4d23-e3fb-922386a525cd"
      },
      "execution_count": 5,
      "outputs": [
        {
          "output_type": "stream",
          "name": "stdout",
          "text": [
            "El texto ha sido extraído y guardado en 'texto_extraido.csv'\n"
          ]
        }
      ]
    }
  ]
}